{
 "cells": [
  {
   "cell_type": "code",
   "execution_count": 6,
   "id": "bfe71b4d",
   "metadata": {},
   "outputs": [
    {
     "name": "stdout",
     "output_type": "stream",
     "text": [
      "40\n",
      "TOI BM\n",
      "Hindu BM\n",
      "Hindu HT\n",
      "BM HT\n"
     ]
    }
   ],
   "source": [
    "target=int(input())\n",
    "arr=[26,20,34,10.5,18]\n",
    "lst=['TOI','Hindu','ET','BM','HT']\n",
    "for i in range(len(arr)):\n",
    "    for j in range(i,len(arr)):\n",
    "        if (arr[i]+arr[j]<target):\n",
    "            if(lst[i]!=lst[j]):\n",
    "                print(lst[i],lst[j])"
   ]
  },
  {
   "cell_type": "code",
   "execution_count": null,
   "id": "e8d38ea5",
   "metadata": {},
   "outputs": [],
   "source": []
  }
 ],
 "metadata": {
  "kernelspec": {
   "display_name": "Python 3",
   "language": "python",
   "name": "python3"
  },
  "language_info": {
   "codemirror_mode": {
    "name": "ipython",
    "version": 3
   },
   "file_extension": ".py",
   "mimetype": "text/x-python",
   "name": "python",
   "nbconvert_exporter": "python",
   "pygments_lexer": "ipython3",
   "version": "3.8.8"
  }
 },
 "nbformat": 4,
 "nbformat_minor": 5
}
